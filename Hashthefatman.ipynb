{
  "nbformat": 4,
  "nbformat_minor": 0,
  "metadata": {
    "colab": {
      "provenance": [],
      "authorship_tag": "ABX9TyPssLN2+UgRPqLh++SMe335",
      "include_colab_link": true
    },
    "kernelspec": {
      "name": "python3",
      "display_name": "Python 3"
    },
    "language_info": {
      "name": "python"
    }
  },
  "cells": [
    {
      "cell_type": "markdown",
      "metadata": {
        "id": "view-in-github",
        "colab_type": "text"
      },
      "source": [
        "<a href=\"https://colab.research.google.com/github/StrikerThreeOne/fatmancoding/blob/main/Hashthefatman.ipynb\" target=\"_parent\"><img src=\"https://colab.research.google.com/assets/colab-badge.svg\" alt=\"Open In Colab\"/></a>"
      ]
    },
    {
      "cell_type": "code",
      "execution_count": null,
      "metadata": {
        "colab": {
          "base_uri": "https://localhost:8080/",
          "height": 135
        },
        "id": "DZZR_E_IDPQy",
        "outputId": "25b10d03-6321-42eb-dafd-32df58a64d2e"
      },
      "outputs": [
        {
          "output_type": "error",
          "ename": "SyntaxError",
          "evalue": "ignored",
          "traceback": [
            "\u001b[0;36m  File \u001b[0;32m\"<ipython-input-1-8b966fc83507>\"\u001b[0;36m, line \u001b[0;32m1\u001b[0m\n\u001b[0;31m    randint 1-9\u001b[0m\n\u001b[0m            ^\u001b[0m\n\u001b[0;31mSyntaxError\u001b[0m\u001b[0;31m:\u001b[0m invalid syntax\n"
          ]
        }
      ],
      "source": [
        "randint 1-9"
      ]
    },
    {
      "cell_type": "code",
      "source": [
        "print(\"Shush\")\n"
      ],
      "metadata": {
        "colab": {
          "base_uri": "https://localhost:8080/"
        },
        "id": "_cnL3roqDxLY",
        "outputId": "788b4c44-7fb7-479a-9172-26c80a01612c"
      },
      "execution_count": null,
      "outputs": [
        {
          "output_type": "stream",
          "name": "stdout",
          "text": [
            "Shush\n"
          ]
        }
      ]
    },
    {
      "cell_type": "code",
      "source": [
        "print(\"TG0 valid\")"
      ],
      "metadata": {
        "id": "6FqN-CSAD9KP",
        "colab": {
          "base_uri": "https://localhost:8080/"
        },
        "outputId": "967d0779-6581-4c7b-cd03-8d7433f73f03"
      },
      "execution_count": 3,
      "outputs": [
        {
          "output_type": "stream",
          "name": "stdout",
          "text": [
            "TG0 valid\n"
          ]
        }
      ]
    },
    {
      "cell_type": "code",
      "source": [
        "print(\"Hash is stupuid\")"
      ],
      "metadata": {
        "colab": {
          "base_uri": "https://localhost:8080/"
        },
        "id": "XS9khksTFVbZ",
        "outputId": "a001acaf-b46e-4f7d-c55e-c7b1f48299bc"
      },
      "execution_count": 4,
      "outputs": [
        {
          "output_type": "stream",
          "name": "stdout",
          "text": [
            "Hash is stupuid\n"
          ]
        }
      ]
    },
    {
      "cell_type": "code",
      "source": [
        "var = DateTime"
      ],
      "metadata": {
        "colab": {
          "base_uri": "https://localhost:8080/",
          "height": 171
        },
        "id": "VMK1PNrhFx9J",
        "outputId": "1dfaf0b6-c39d-45cd-d311-7cf21ae9cbb1"
      },
      "execution_count": 5,
      "outputs": [
        {
          "output_type": "error",
          "ename": "NameError",
          "evalue": "ignored",
          "traceback": [
            "\u001b[0;31m---------------------------------------------------------------------------\u001b[0m",
            "\u001b[0;31mNameError\u001b[0m                                 Traceback (most recent call last)",
            "\u001b[0;32m<ipython-input-5-25cb3f9d0b2a>\u001b[0m in \u001b[0;36m<module>\u001b[0;34m\u001b[0m\n\u001b[0;32m----> 1\u001b[0;31m \u001b[0mvar\u001b[0m \u001b[0;34m=\u001b[0m \u001b[0mDateTime\u001b[0m\u001b[0;34m\u001b[0m\u001b[0;34m\u001b[0m\u001b[0m\n\u001b[0m",
            "\u001b[0;31mNameError\u001b[0m: name 'DateTime' is not defined"
          ]
        }
      ]
    },
    {
      "cell_type": "code",
      "source": [
        "password = 4\n",
        "\n",
        "if password == 3:\n",
        "  print(\"hello\")"
      ],
      "metadata": {
        "id": "QEvGAR6GGIWn"
      },
      "execution_count": 12,
      "outputs": []
    },
    {
      "cell_type": "code",
      "source": [
        "Snehashon = str(\"Stupid\") "
      ],
      "metadata": {
        "id": "84h1CiYXGm7k"
      },
      "execution_count": 13,
      "outputs": []
    },
    {
      "cell_type": "code",
      "source": [
        "Snehashon = str(\"Stupid\")"
      ],
      "metadata": {
        "id": "NkbUy39yHOfU"
      },
      "execution_count": 14,
      "outputs": []
    },
    {
      "cell_type": "code",
      "source": [
        "Snehashon = str(\"Stupid\")\n",
        "\n",
        "if Snehashon == str(\"Stupid\"):\n",
        "  print(\"Shuuuuush\")"
      ],
      "metadata": {
        "colab": {
          "base_uri": "https://localhost:8080/"
        },
        "id": "qagqHB0MHQ_u",
        "outputId": "e42568e4-5b42-410f-df58-a1400337da7c"
      },
      "execution_count": 15,
      "outputs": [
        {
          "output_type": "stream",
          "name": "stdout",
          "text": [
            "Shuuuuush\n"
          ]
        }
      ]
    },
    {
      "cell_type": "code",
      "source": [
        "a = 3"
      ],
      "metadata": {
        "id": "FkdNSk7fHaZZ"
      },
      "execution_count": 16,
      "outputs": []
    },
    {
      "cell_type": "code",
      "source": [
        "a = 3\n",
        "b = a\n",
        "print(b)\n",
        "\n",
        "x = 1.5\n",
        "y = 3 + 2j\n",
        "\n",
        "print(type(a),type(x),type(y))"
      ],
      "metadata": {
        "colab": {
          "base_uri": "https://localhost:8080/"
        },
        "id": "9QYYVTNiJKX_",
        "outputId": "5df5f51b-25ae-494c-bdff-89dec87fa8f4"
      },
      "execution_count": 17,
      "outputs": [
        {
          "output_type": "stream",
          "name": "stdout",
          "text": [
            "3\n",
            "<class 'int'> <class 'float'> <class 'complex'>\n"
          ]
        }
      ]
    },
    {
      "cell_type": "code",
      "source": [
        "x = (6,5,23,\"a\")\n",
        "\n",
        "print(x[0])\n"
      ],
      "metadata": {
        "colab": {
          "base_uri": "https://localhost:8080/"
        },
        "id": "wwA-K-zdJTPY",
        "outputId": "2cc606b0-b295-4d1a-b811-b9758ce527f3"
      },
      "execution_count": 28,
      "outputs": [
        {
          "output_type": "stream",
          "name": "stdout",
          "text": [
            "6\n"
          ]
        }
      ]
    },
    {
      "cell_type": "code",
      "source": [
        "password = \"not\"\n",
        "\n",
        "if password == \"new\":\n",
        "  print(\"new\");\n",
        "else:\n",
        "  print(\"old\")"
      ],
      "metadata": {
        "colab": {
          "base_uri": "https://localhost:8080/"
        },
        "id": "JO_LsN4dLc1d",
        "outputId": "bda19baf-9110-4b2f-e8d0-6a7a10d3f7d9"
      },
      "execution_count": 30,
      "outputs": [
        {
          "output_type": "stream",
          "name": "stdout",
          "text": [
            "old\n"
          ]
        }
      ]
    },
    {
      "cell_type": "code",
      "source": [
        "shush = input(\"Please type a number\")\n",
        "\n",
        "if type(shush) is int:\n",
        "  print(\"Big Integers Gang\", shush)\n",
        "elif type(shush) is str:\n",
        "  print(\"String Gang?\", shush)\n",
        "else:\n",
        "  print(type(shush), \"At least pick something bruh\")"
      ],
      "metadata": {
        "colab": {
          "base_uri": "https://localhost:8080/"
        },
        "id": "_kPtfk4NLo8s",
        "outputId": "54a85d0d-3925-4b07-e611-f78203737acb"
      },
      "execution_count": 37,
      "outputs": [
        {
          "output_type": "stream",
          "name": "stdout",
          "text": [
            "Please type a numberint(3)\n",
            "String Gang? int(3)\n"
          ]
        }
      ]
    },
    {
      "cell_type": "code",
      "source": [
        "def the_func(a, b):\n",
        "  print(\"I am returning squared numbers\")\n",
        "  return a**2, b**2\n",
        "\n",
        "result = the_func(3,9)\n",
        "print(result)\n"
      ],
      "metadata": {
        "colab": {
          "base_uri": "https://localhost:8080/"
        },
        "id": "SF8bHv_MMXmS",
        "outputId": "63481ec9-136a-4494-e874-6b0a1d362402"
      },
      "execution_count": 40,
      "outputs": [
        {
          "output_type": "stream",
          "name": "stdout",
          "text": [
            "I am returning squared numbers\n",
            "(9, 81)\n"
          ]
        }
      ]
    },
    {
      "cell_type": "code",
      "source": [
        "doors = input(\"Welcome to this stupid number game, I am your host. Please choose door 1, door 2 or door 3\")\n",
        "bragright = 0\n",
        "\n",
        "if doors == str(\"door 1\"):\n",
        "  print(\"Congratulations! You win bragging rights.\")\n",
        "  bragright + 1\n",
        "  print(\"You have won one bragging point, your current bragging score is\", bragright)\n",
        "elif doors == \"door 2\":\n",
        "  print(\"Uh oh. You die. Peak.\")\n",
        "  bragright - 1\n",
        "  print(\"Because you died, your score gets taken by 1. Your current score is,\", bragright) \n",
        "elif doors == \"door 3\":\n",
        "  print(\"Well, nothing happened. Lol\")\n",
        "  print(\"Nothing happened, so here's your score:\", bragright)\n",
        "else:\n",
        "  print(\"You stupid or what?\")\n",
        "\n"
      ],
      "metadata": {
        "colab": {
          "base_uri": "https://localhost:8080/"
        },
        "id": "XTujdUcdOO5h",
        "outputId": "884c6eaf-c65b-499f-d0a1-8fa0247b00a6"
      },
      "execution_count": 48,
      "outputs": [
        {
          "name": "stdout",
          "output_type": "stream",
          "text": [
            "Congratulations! You win bragging rights.\n",
            "You have won one bragging point, your current bragging score is 0\n",
            "Welcome to this stupid number game, I am your host. Please choose door 1, door 2 or door 3door 1\n"
          ]
        }
      ]
    },
    {
      "cell_type": "code",
      "source": [
        "def the_func(num,target):\n",
        "  for x in range (len(num)):\n",
        "    for y in range (len(num)):\n",
        "      if num[x] + num[y] == target:\n",
        "        print(num[x],num[y])\n",
        "the_func ([1,2,3,4,5,6,7,8,9],9)\n",
        "\n",
        "\n",
        "\n"
      ],
      "metadata": {
        "colab": {
          "base_uri": "https://localhost:8080/"
        },
        "id": "aWHzlAp7QRE1",
        "outputId": "7e1ea869-b0b1-4e5f-dffd-0ae2592ef12a"
      },
      "execution_count": 47,
      "outputs": [
        {
          "output_type": "stream",
          "name": "stdout",
          "text": [
            "1 8\n",
            "2 7\n",
            "3 6\n",
            "4 5\n",
            "5 4\n",
            "6 3\n",
            "7 2\n",
            "8 1\n"
          ]
        }
      ]
    },
    {
      "cell_type": "code",
      "source": [
        "\n",
        "def func_new(num,target):\n",
        "      \n",
        "func_new ([1,2,3,4,5,6,7,8,9],7)"
      ],
      "metadata": {
        "colab": {
          "base_uri": "https://localhost:8080/",
          "height": 333
        },
        "id": "tkDrvzpPV-zd",
        "outputId": "63c7b6c4-b6c6-43ce-9f5b-ae47bf28a308"
      },
      "execution_count": 54,
      "outputs": [
        {
          "output_type": "error",
          "ename": "TypeError",
          "evalue": "ignored",
          "traceback": [
            "\u001b[0;31m---------------------------------------------------------------------------\u001b[0m",
            "\u001b[0;31mTypeError\u001b[0m                                 Traceback (most recent call last)",
            "\u001b[0;32m<ipython-input-54-c1310c1f7b30>\u001b[0m in \u001b[0;36m<module>\u001b[0;34m\u001b[0m\n\u001b[1;32m      3\u001b[0m       \u001b[0;32mif\u001b[0m \u001b[0mnum\u001b[0m\u001b[0;34m(\u001b[0m\u001b[0my\u001b[0m\u001b[0;34m)\u001b[0m \u001b[0;32min\u001b[0m \u001b[0mrange\u001b[0m\u001b[0;34m:\u001b[0m\u001b[0;34m\u001b[0m\u001b[0;34m\u001b[0m\u001b[0m\n\u001b[1;32m      4\u001b[0m         \u001b[0mprint\u001b[0m\u001b[0;34m(\u001b[0m\u001b[0mnum\u001b[0m\u001b[0;34m[\u001b[0m\u001b[0mx\u001b[0m\u001b[0;34m]\u001b[0m\u001b[0;34m,\u001b[0m\u001b[0mnum\u001b[0m\u001b[0;34m[\u001b[0m\u001b[0my\u001b[0m\u001b[0;34m]\u001b[0m\u001b[0;34m)\u001b[0m\u001b[0;34m\u001b[0m\u001b[0;34m\u001b[0m\u001b[0m\n\u001b[0;32m----> 5\u001b[0;31m \u001b[0mfunc_new\u001b[0m \u001b[0;34m(\u001b[0m\u001b[0;34m[\u001b[0m\u001b[0;36m1\u001b[0m\u001b[0;34m,\u001b[0m\u001b[0;36m2\u001b[0m\u001b[0;34m,\u001b[0m\u001b[0;36m3\u001b[0m\u001b[0;34m,\u001b[0m\u001b[0;36m4\u001b[0m\u001b[0;34m,\u001b[0m\u001b[0;36m5\u001b[0m\u001b[0;34m,\u001b[0m\u001b[0;36m6\u001b[0m\u001b[0;34m,\u001b[0m\u001b[0;36m7\u001b[0m\u001b[0;34m,\u001b[0m\u001b[0;36m8\u001b[0m\u001b[0;34m,\u001b[0m\u001b[0;36m9\u001b[0m\u001b[0;34m]\u001b[0m\u001b[0;34m,\u001b[0m\u001b[0;36m7\u001b[0m\u001b[0;34m)\u001b[0m\u001b[0;34m\u001b[0m\u001b[0;34m\u001b[0m\u001b[0m\n\u001b[0m",
            "\u001b[0;32m<ipython-input-54-c1310c1f7b30>\u001b[0m in \u001b[0;36mfunc_new\u001b[0;34m(num, target)\u001b[0m\n\u001b[1;32m      1\u001b[0m \u001b[0;32mdef\u001b[0m \u001b[0mfunc_new\u001b[0m\u001b[0;34m(\u001b[0m\u001b[0mnum\u001b[0m\u001b[0;34m,\u001b[0m\u001b[0mtarget\u001b[0m\u001b[0;34m)\u001b[0m\u001b[0;34m:\u001b[0m\u001b[0;34m\u001b[0m\u001b[0;34m\u001b[0m\u001b[0m\n\u001b[0;32m----> 2\u001b[0;31m   \u001b[0;32mif\u001b[0m \u001b[0mnum\u001b[0m \u001b[0;34m<\u001b[0m \u001b[0mtarget\u001b[0m\u001b[0;34m:\u001b[0m\u001b[0;34m\u001b[0m\u001b[0;34m\u001b[0m\u001b[0m\n\u001b[0m\u001b[1;32m      3\u001b[0m       \u001b[0;32mif\u001b[0m \u001b[0mnum\u001b[0m\u001b[0;34m(\u001b[0m\u001b[0my\u001b[0m\u001b[0;34m)\u001b[0m \u001b[0;32min\u001b[0m \u001b[0mrange\u001b[0m\u001b[0;34m:\u001b[0m\u001b[0;34m\u001b[0m\u001b[0;34m\u001b[0m\u001b[0m\n\u001b[1;32m      4\u001b[0m         \u001b[0mprint\u001b[0m\u001b[0;34m(\u001b[0m\u001b[0mnum\u001b[0m\u001b[0;34m[\u001b[0m\u001b[0mx\u001b[0m\u001b[0;34m]\u001b[0m\u001b[0;34m,\u001b[0m\u001b[0mnum\u001b[0m\u001b[0;34m[\u001b[0m\u001b[0my\u001b[0m\u001b[0;34m]\u001b[0m\u001b[0;34m)\u001b[0m\u001b[0;34m\u001b[0m\u001b[0;34m\u001b[0m\u001b[0m\n\u001b[1;32m      5\u001b[0m \u001b[0mfunc_new\u001b[0m \u001b[0;34m(\u001b[0m\u001b[0;34m[\u001b[0m\u001b[0;36m1\u001b[0m\u001b[0;34m,\u001b[0m\u001b[0;36m2\u001b[0m\u001b[0;34m,\u001b[0m\u001b[0;36m3\u001b[0m\u001b[0;34m,\u001b[0m\u001b[0;36m4\u001b[0m\u001b[0;34m,\u001b[0m\u001b[0;36m5\u001b[0m\u001b[0;34m,\u001b[0m\u001b[0;36m6\u001b[0m\u001b[0;34m,\u001b[0m\u001b[0;36m7\u001b[0m\u001b[0;34m,\u001b[0m\u001b[0;36m8\u001b[0m\u001b[0;34m,\u001b[0m\u001b[0;36m9\u001b[0m\u001b[0;34m]\u001b[0m\u001b[0;34m,\u001b[0m\u001b[0;36m7\u001b[0m\u001b[0;34m)\u001b[0m\u001b[0;34m\u001b[0m\u001b[0;34m\u001b[0m\u001b[0m\n",
            "\u001b[0;31mTypeError\u001b[0m: '<' not supported between instances of 'list' and 'int'"
          ]
        }
      ]
    },
    {
      "cell_type": "code",
      "source": [
        "\n",
        "number=int(input())\n",
        "square_rooot=(number)**(1/2)\n",
        "\n",
        "square_root = int(str(square_rooot)[:1])\n",
        "print(square_root)"
      ],
      "metadata": {
        "colab": {
          "base_uri": "https://localhost:8080/"
        },
        "id": "pG6RPb2aYqw8",
        "outputId": "012b801e-68c9-4a21-e794-cd6535213fcf"
      },
      "execution_count": 72,
      "outputs": [
        {
          "output_type": "stream",
          "name": "stdout",
          "text": [
            "10\n",
            "3\n"
          ]
        }
      ]
    },
    {
      "cell_type": "code",
      "source": [
        "\n",
        "-"
      ],
      "metadata": {
        "id": "ZBVaUzvzeKDX"
      },
      "execution_count": null,
      "outputs": []
    }
  ]
}